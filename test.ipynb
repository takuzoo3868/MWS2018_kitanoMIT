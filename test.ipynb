{
 "cells": [
  {
   "cell_type": "code",
   "execution_count": 1,
   "metadata": {},
   "outputs": [
    {
     "name": "stderr",
     "output_type": "stream",
     "text": [
      "Using TensorFlow backend.\n"
     ]
    }
   ],
   "source": [
    "import sklearn, numpy as np, pandas as pd, tensorflow as tf\n",
    "from sklearn.model_selection import train_test_split\n",
    "from sklearn.preprocessing import MinMaxScaler\n",
    "from keras.utils import np_utils\n",
    "from keras.backend import tensorflow_backend\n",
    "import discriminator\n",
    "\n",
    "### if use gpu, please comment out \n",
    "#config = tf.ConfigProto(gpu_options=tf.GPUOptions(allow_growth=True))\n",
    "#session = tf.Session(config=config)\n",
    "#tensorflow_backend.set_session(session)"
   ]
  },
  {
   "cell_type": "code",
   "execution_count": 2,
   "metadata": {},
   "outputs": [],
   "source": [
    "def load_kddi_data(data_path):\n",
    "    col = [\"duration\", \"protocol_type\", \"service\", \"flag\", \"src_bytes\", \"dst_bytes\", \"land\", \"wrong_fragment\",\n",
    "           \"urgent\", \"hot\", \"num_failed_logins\", \"logged_in\", \"num_compromised\", \"root_shell\", \"su_attempted\",\n",
    "           \"num_root\", \"num_file_creations\", \"num_shells\", \"num_access_files\", \"num_outbound_cmds\",\n",
    "           \"is_host_login\", \"is_guest_login\", \"count\", \"srv_count\", \"serror_rate\", \"srv_serror_rate\",\n",
    "           \"rerror_rate\", \"srv_rerror_rate\", \"same_srv_rate\", \"diff_srv_rate\", \"srv_diff_host_rate\",\n",
    "           \"dst_host_count\", \"dst_host_srv_count\", \"dst_host_same_srv_rate\", \"dst_host_diff_srv_rate\",\n",
    "           \"dst_host_same_src_port_rate\", \"dst_host_srv_diff_host_rate\", \"dst_host_serror_rate\",\n",
    "           \"dst_host_srv_serror_rate\", \"dst_host_rerror_rate\", \"dst_host_srv_rerror_rate\", \"label\"]\n",
    "    dataset = pd.read_csv(data_path, names=col)\n",
    "    \n",
    "    # 正常なデータを0, 悪意のあるデータを1とする\n",
    "    labels = dataset[\"label\"]\n",
    "    labels = labels.replace({\"^.*normal.*\":0,\"^(?!normal).*$\":1}, regex=True)\n",
    "    # 文字列とラベルを取り除く\n",
    "    drop_columns = [\"protocol_type\", \"service\", \"flag\", \"label\"]\n",
    "    return dataset.drop(drop_columns, axis=1), labels"
   ]
  },
  {
   "cell_type": "code",
   "execution_count": 3,
   "metadata": {},
   "outputs": [],
   "source": [
    "def load_converted_data(data_path):\n",
    "    col = [\"num_conn\", \"startTimet\", \"orig_pt\", \"resp_pt\", \"orig_ht\", \"resp_ht\",\n",
    "           \"duration\", \"protocol_type\", \"service\", \"flag\", \"src_bytes\", \"dst_bytes\", \"land\", \"wrong_fragment\",\n",
    "           \"urgent\", \"hot\", \"num_failed_logins\", \"logged_in\", \"num_compromised\", \"root_shell\", \"su_attempted\",\n",
    "           \"num_root\", \"num_file_creations\", \"num_shells\", \"num_access_files\", \"num_outbound_cmds\",\n",
    "           \"is_host_login\", \"is_guest_login\", \"count\", \"srv_count\", \"serror_rate\", \"srv_serror_rate\",\n",
    "           \"rerror_rate\", \"srv_rerror_rate\", \"same_srv_rate\", \"diff_srv_rate\", \"srv_diff_host_rate\",\n",
    "           \"dst_host_count\", \"dst_host_srv_count\", \"dst_host_same_srv_rate\", \"dst_host_diff_srv_rate\",\n",
    "           \"dst_host_same_src_port_rate\", \"dst_host_srv_diff_host_rate\", \"dst_host_serror_rate\",\n",
    "           \"dst_host_srv_serror_rate\", \"dst_host_rerror_rate\", \"dst_host_srv_rerror_rate\"]\n",
    "    dataset = pd.read_csv(data_path, names=col)\n",
    "\n",
    "    # 余分な列と文字列を取り除く\n",
    "    drop_columns = [\"num_conn\", \"startTimet\", \"orig_pt\", \"resp_pt\", \"orig_ht\", \"resp_ht\",\n",
    "                    \"protocol_type\", \"service\", \"flag\"]\n",
    "    return dataset.drop(drop_columns, axis=1)"
   ]
  },
  {
   "cell_type": "code",
   "execution_count": 4,
   "metadata": {},
   "outputs": [],
   "source": [
    "# Load KDDI Data\n",
    "X_kddi, y_kddi = load_kddi_data('./kddcup99/kddcup.data_10_percent')\n",
    "#X_kddi, y_kddi = load_kddi_data('./kddcup99/kddcup.data')"
   ]
  },
  {
   "cell_type": "code",
   "execution_count": 5,
   "metadata": {},
   "outputs": [],
   "source": [
    "# Load Converted BOS Data\n",
    "load_converted_path = './BOS_2014/c11/trafAld.list'\n",
    "with open(load_converted_path, mode='r') as f:\n",
    "    s = f.read().replace(' ', ',')\n",
    "with open(load_converted_path, mode='w') as f:\n",
    "    f.write(s)\n",
    "X_conv = load_converted_data(load_converted_path)"
   ]
  },
  {
   "cell_type": "code",
   "execution_count": 6,
   "metadata": {},
   "outputs": [],
   "source": [
    "scaler = MinMaxScaler(feature_range=(0, 1))  \n",
    "#X = scaler.fit_transform(X_kddi)\n",
    "X = np.array(X_kddi.values)\n",
    "X = np.reshape(X, (X.shape[0], X.shape[1], 1))\n",
    "y = np.array(y_kddi.tolist())\n",
    "#X_conv_test = scaler.fit_transform(X_conv)\n",
    "X_conv_test = np.array(X_conv.values)\n",
    "X_conv_test = np.reshape(X_conv_test, (X_conv_test.shape[0], X_conv_test.shape[1], 1))"
   ]
  },
  {
   "cell_type": "code",
   "execution_count": 7,
   "metadata": {},
   "outputs": [],
   "source": [
    "X_train, X_test, y_train, y_test = train_test_split(X, y, test_size=.4, random_state=123)\n",
    "\n",
    "SAMPLE_SIZE = 0\n",
    "if SAMPLE_SIZE:\n",
    "    X_train = X_train[:SAMPLE_SIZE]\n",
    "    y_train = y_train[:SAMPLE_SIZE]\n",
    "    X_test = X_test[:SAMPLE_SIZE]\n",
    "    y_test = y_test[:SAMPLE_SIZE]\n",
    "\n",
    "#y_train = np_utils.to_categorical(y_train, 2)\n",
    "#y_test = np_utils.to_categorical(y_test, 2)"
   ]
  },
  {
   "cell_type": "code",
   "execution_count": null,
   "metadata": {
    "scrolled": true
   },
   "outputs": [
    {
     "name": "stdout",
     "output_type": "stream",
     "text": [
      "Train on 296412 samples, validate on 197609 samples\n",
      "Epoch 1/100\n",
      "296412/296412 [==============================] - 755s 3ms/step - loss: 0.0320 - acc: 0.9895 - val_loss: 0.3624 - val_acc: 0.8850\n",
      "Epoch 2/100\n",
      "129280/296412 [============>.................] - ETA: 5:17 - loss: 0.0209 - acc: 0.9932"
     ]
    }
   ],
   "source": [
    "rnn_type = ['RNN', 'GRU', 'LSTM']\n",
    "training_resoult = []\n",
    "predict_resoult = []\n",
    "batch_size = 128\n",
    "epochs = 100\n",
    "base = discriminator.BasicModel()\n",
    "\n",
    "for i in rnn_type:\n",
    "    clf = base.build(input_shape=(X_train.shape[1], 1), rnn_type=i, bidirectional=True, vat=True)\n",
    "    training_resoult.append(clf.train(X_train, X_test, y_train, y_test, batch_size=batch_size,\n",
    "                                      epochs=epochs, early_stop=False))\n",
    "    predict_resoult.append(np.round(clf.model.predict(X_conv_test)))\n",
    "\n",
    "#score = clf.evaluate(X_test, y_test)#, verbose=0)\n",
    "#score = clf.model.evaluate(X_test, y_test, verbose=0)\n",
    "#print(\"finish: use_dropout, use_vat: score=%s, accuracy=%s\" % (score[0], score[1]))"
   ]
  },
  {
   "cell_type": "code",
   "execution_count": null,
   "metadata": {},
   "outputs": [],
   "source": [
    "import matplotlib.pyplot as plt\n",
    "%matplotlib inline\n",
    "\n",
    "x = range(epochs)\n",
    "for i in range(len(training_resoult)):\n",
    "    plt.plot(x, training_resoult[i].history['acc'], label=rnn_type[i])\n",
    "plt.title(\"binary train accuracy\")\n",
    "plt.legend(loc='center left', bbox_to_anchor=(1, 0.5))\n",
    "plt.show()\n",
    "for i in range(len(training_resoult)):\n",
    "    plt.plot(x, training_resoult[i].history['val_acc'], label=rnn_type[i])\n",
    "plt.title(\"binary test accuracy\")\n",
    "plt.legend(loc='center left', bbox_to_anchor=(1, 0.5))\n",
    "plt.show()\n",
    "for i in range(len(training_resoult)):\n",
    "    plt.plot(x, training_resoult[i].history['loss'], label=rnn_type[i])\n",
    "plt.title(\"binary train loss\")\n",
    "plt.legend(loc='center left', bbox_to_anchor=(1, 0.5))\n",
    "plt.ylim([0,1])\n",
    "plt.show()\n",
    "for i in range(len(training_resoult)):\n",
    "    plt.plot(x, training_resoult[i].history['val_loss'], label=rnn_type[i])\n",
    "plt.title(\"binary test loss\")\n",
    "plt.legend(loc='center left', bbox_to_anchor=(1, 0.5))\n",
    "plt.ylim([0,1])\n",
    "plt.show()"
   ]
  },
  {
   "cell_type": "code",
   "execution_count": null,
   "metadata": {},
   "outputs": [],
   "source": [
    "predict_resoult[0].hist(alpha=.5,label=0,bins=40)\n",
    "predict_resoult[0].hist(alpha=.5,label=1,bins=40)\n",
    "plt.legend()"
   ]
  },
  {
   "cell_type": "code",
   "execution_count": null,
   "metadata": {},
   "outputs": [],
   "source": []
  }
 ],
 "metadata": {
  "kernelspec": {
   "display_name": "Python 3",
   "language": "python",
   "name": "python3"
  },
  "language_info": {
   "codemirror_mode": {
    "name": "ipython",
    "version": 3
   },
   "file_extension": ".py",
   "mimetype": "text/x-python",
   "name": "python",
   "nbconvert_exporter": "python",
   "pygments_lexer": "ipython3",
   "version": "3.6.6"
  }
 },
 "nbformat": 4,
 "nbformat_minor": 2
}
